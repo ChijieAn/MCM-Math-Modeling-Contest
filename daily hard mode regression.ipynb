{
 "cells": [
  {
   "cell_type": "code",
   "execution_count": 2,
   "metadata": {},
   "outputs": [],
   "source": [
    "import matplotlib.pyplot as plt\n",
    "import sklearn as skl\n",
    "import numpy as np\n",
    "import pandas as pd\n",
    "import datetime as dt\n"
   ]
  },
  {
   "cell_type": "code",
   "execution_count": 3,
   "metadata": {},
   "outputs": [],
   "source": [
    "#read the csv data\n",
    "df=pd.read_csv('Problem_C_Data_Wordle.csv')\n"
   ]
  },
  {
   "cell_type": "code",
   "execution_count": 4,
   "metadata": {},
   "outputs": [
    {
     "data": {
      "text/html": [
       "<div>\n",
       "<style scoped>\n",
       "    .dataframe tbody tr th:only-of-type {\n",
       "        vertical-align: middle;\n",
       "    }\n",
       "\n",
       "    .dataframe tbody tr th {\n",
       "        vertical-align: top;\n",
       "    }\n",
       "\n",
       "    .dataframe thead th {\n",
       "        text-align: right;\n",
       "    }\n",
       "</style>\n",
       "<table border=\"1\" class=\"dataframe\">\n",
       "  <thead>\n",
       "    <tr style=\"text-align: right;\">\n",
       "      <th></th>\n",
       "      <th>Unnamed: 0</th>\n",
       "      <th>Unnamed: 1</th>\n",
       "      <th>Unnamed: 2</th>\n",
       "      <th>Unnamed: 3</th>\n",
       "      <th>Unnamed: 4</th>\n",
       "      <th>Unnamed: 5</th>\n",
       "      <th>Percent in</th>\n",
       "      <th>Unnamed: 7</th>\n",
       "      <th>Unnamed: 8</th>\n",
       "      <th>Unnamed: 9</th>\n",
       "      <th>Unnamed: 10</th>\n",
       "      <th>Unnamed: 11</th>\n",
       "      <th>Unnamed: 12</th>\n",
       "    </tr>\n",
       "  </thead>\n",
       "  <tbody>\n",
       "    <tr>\n",
       "      <th>0</th>\n",
       "      <td>NaN</td>\n",
       "      <td>Date</td>\n",
       "      <td>Contest number</td>\n",
       "      <td>Word</td>\n",
       "      <td>Number of  reported results</td>\n",
       "      <td>Number in hard mode</td>\n",
       "      <td>1 try</td>\n",
       "      <td>2 tries</td>\n",
       "      <td>3 tries</td>\n",
       "      <td>4 tries</td>\n",
       "      <td>5 tries</td>\n",
       "      <td>6 tries</td>\n",
       "      <td>7 or more tries (X)</td>\n",
       "    </tr>\n",
       "    <tr>\n",
       "      <th>1</th>\n",
       "      <td>NaN</td>\n",
       "      <td>12/31/2022</td>\n",
       "      <td>560</td>\n",
       "      <td>manly</td>\n",
       "      <td>20380</td>\n",
       "      <td>1899</td>\n",
       "      <td>0</td>\n",
       "      <td>2</td>\n",
       "      <td>17</td>\n",
       "      <td>37</td>\n",
       "      <td>29</td>\n",
       "      <td>12</td>\n",
       "      <td>2</td>\n",
       "    </tr>\n",
       "    <tr>\n",
       "      <th>2</th>\n",
       "      <td>NaN</td>\n",
       "      <td>12/30/2022</td>\n",
       "      <td>559</td>\n",
       "      <td>molar</td>\n",
       "      <td>21204</td>\n",
       "      <td>1973</td>\n",
       "      <td>0</td>\n",
       "      <td>4</td>\n",
       "      <td>21</td>\n",
       "      <td>38</td>\n",
       "      <td>26</td>\n",
       "      <td>9</td>\n",
       "      <td>1</td>\n",
       "    </tr>\n",
       "    <tr>\n",
       "      <th>3</th>\n",
       "      <td>NaN</td>\n",
       "      <td>12/29/2022</td>\n",
       "      <td>558</td>\n",
       "      <td>havoc</td>\n",
       "      <td>20001</td>\n",
       "      <td>1919</td>\n",
       "      <td>0</td>\n",
       "      <td>2</td>\n",
       "      <td>16</td>\n",
       "      <td>38</td>\n",
       "      <td>30</td>\n",
       "      <td>12</td>\n",
       "      <td>2</td>\n",
       "    </tr>\n",
       "    <tr>\n",
       "      <th>4</th>\n",
       "      <td>NaN</td>\n",
       "      <td>12/28/2022</td>\n",
       "      <td>557</td>\n",
       "      <td>impel</td>\n",
       "      <td>20160</td>\n",
       "      <td>1937</td>\n",
       "      <td>0</td>\n",
       "      <td>3</td>\n",
       "      <td>21</td>\n",
       "      <td>40</td>\n",
       "      <td>25</td>\n",
       "      <td>9</td>\n",
       "      <td>1</td>\n",
       "    </tr>\n",
       "  </tbody>\n",
       "</table>\n",
       "</div>"
      ],
      "text/plain": [
       "   Unnamed: 0  Unnamed: 1      Unnamed: 2 Unnamed: 3  \\\n",
       "0         NaN        Date  Contest number       Word   \n",
       "1         NaN  12/31/2022             560      manly   \n",
       "2         NaN  12/30/2022             559      molar   \n",
       "3         NaN  12/29/2022             558      havoc   \n",
       "4         NaN  12/28/2022             557      impel   \n",
       "\n",
       "                    Unnamed: 4           Unnamed: 5 Percent in  Unnamed: 7  \\\n",
       "0  Number of  reported results  Number in hard mode       1 try    2 tries   \n",
       "1                        20380                 1899           0          2   \n",
       "2                        21204                 1973           0          4   \n",
       "3                        20001                 1919           0          2   \n",
       "4                        20160                 1937           0          3   \n",
       "\n",
       "  Unnamed: 8 Unnamed: 9 Unnamed: 10 Unnamed: 11          Unnamed: 12  \n",
       "0    3 tries    4 tries     5 tries     6 tries  7 or more tries (X)  \n",
       "1         17         37          29          12                    2  \n",
       "2         21         38          26           9                    1  \n",
       "3         16         38          30          12                    2  \n",
       "4         21         40          25           9                    1  "
      ]
     },
     "execution_count": 4,
     "metadata": {},
     "output_type": "execute_result"
    }
   ],
   "source": [
    "df.head()"
   ]
  },
  {
   "cell_type": "code",
   "execution_count": 7,
   "metadata": {},
   "outputs": [],
   "source": [
    "#prepare the data for the plot\n",
    "y=[]\n",
    "for i in range(1,360):\n",
    "    y.append(int(df.iloc[i,5]))\n",
    "date=[dt.datetime.strptime(d,'%m/%d/%Y').date() for d in df.iloc[1:,1]]\n"
   ]
  },
  {
   "cell_type": "code",
   "execution_count": 46,
   "metadata": {},
   "outputs": [
    {
     "data": {
      "text/plain": [
       "<matplotlib.collections.PathCollection at 0x7f9cb2fcd340>"
      ]
     },
     "execution_count": 46,
     "metadata": {},
     "output_type": "execute_result"
    },
    {
     "data": {
      "image/png": "[encoded data removed]",
      "text/plain": [
       "<Figure size 432x288 with 1 Axes>"
      ]
     },
     "metadata": {
      "needs_background": "light"
     },
     "output_type": "display_data"
    }
   ],
   "source": [
    "#plot the data\n",
    "import matplotlib.dates as mdates\n",
    "plt.figure()\n",
    "plt.title('Daily Hard Mode Numbers')\n",
    "plt.gca().xaxis.set_major_formatter(mdates.DateFormatter('%m/%d/%Y'))\n",
    "plt.gca().xaxis.set_major_locator(mdates.DayLocator(interval=80))\n",
    "plt.xlabel('Date')\n",
    "plt.ylabel('Hard Mode Number')\n",
    "K=359\n",
    "x_range=np.linspace(1,K,num=K)\n",
    "plt.scatter(date,y,s=5)"
   ]
  },
  {
   "cell_type": "code",
   "execution_count": 22,
   "metadata": {},
   "outputs": [
    {
     "name": "stdout",
     "output_type": "stream",
     "text": [
      "<class 'int'>\n"
     ]
    }
   ],
   "source": [
    "#calculate the ratio of hard mode number and total contest number\n",
    "for i in range(1,360):\n",
    "    df.iloc[i,4]=int(df.iloc[i,4])\n",
    "    df.iloc[i,5]=int(df.iloc[i,5])\n",
    "print(type(df.iloc[1,4]))\n",
    "ratio=[]\n",
    "for i in range(1,360):\n",
    "    ratio.append(df.iloc[i,5]/df.iloc[i,4])\n",
    "\n",
    "#create date index X for the further regression\n",
    "x_range=np.linspace(1,K,num=K)\n",
    "X=[int(i) for i in x_range]\n",
    "arr_X=np.array(X)\n",
    "arr_X=arr_X.reshape((-1,1))"
   ]
  },
  {
   "cell_type": "code",
   "execution_count": 19,
   "metadata": {},
   "outputs": [
    {
     "data": {
      "text/plain": [
       "<matplotlib.collections.PathCollection at 0x7f9cb2cad160>"
      ]
     },
     "execution_count": 19,
     "metadata": {},
     "output_type": "execute_result"
    },
    {
     "data": {
      "image/png": "[encoded data removed]",
      "text/plain": [
       "<Figure size 432x288 with 1 Axes>"
      ]
     },
     "metadata": {
      "needs_background": "light"
     },
     "output_type": "display_data"
    }
   ],
   "source": [
    "#plot the hard mode-total reported number ratio\n",
    "plt.figure()\n",
    "plt.title('The Daily Ratio Of Hard Mode Number/Total Reported Number')\n",
    "plt.xlabel('Date')\n",
    "plt.ylabel('Hard Mode Ratio')\n",
    "plt.scatter(date,ratio,s=0.5)"
   ]
  },
  {
   "cell_type": "code",
   "execution_count": 43,
   "metadata": {},
   "outputs": [],
   "source": [
    "#seperate the data set to training set and testing set \n",
    "arr_X_train=arr_X[100:209]#choose the first day150-260 to be the training set\n",
    "arr_X_test=arr_X[:100]#choose the last 99 days to be the testing set\n",
    "date_train=date[100:]\n",
    "date_test=date[:100]\n",
    "ratio_train=ratio[100:209]\n",
    "ratio_test=ratio[:100]\n",
    "\n"
   ]
  },
  {
   "cell_type": "code",
   "execution_count": 44,
   "metadata": {},
   "outputs": [
    {
     "name": "stdout",
     "output_type": "stream",
     "text": [
      "[7.785868897610285e-05, 7.785868897610285e-05, 7.785868897610285e-05, 7.785868897610285e-05, 7.785868897610285e-05, 7.785868897610285e-05, 7.785868897610285e-05, 7.785868897610285e-05, 7.785868897610285e-05]\n",
      "[0.007139684777857305, 0.007139684777857305, 0.007139684777857305, 0.007139684777857305, 0.007139684777857305, 0.007139684777857305, 0.007139684777857305, 0.007139684777857305, 0.007139684777857305]\n",
      "0\n",
      "[0.09298143]\n"
     ]
    }
   ],
   "source": [
    "#use SVM to regression the ratio and the daily number and make prediction\n",
    "from sklearn.svm import SVR\n",
    "lst_MSE_train=[]\n",
    "lst_MSE_test=[]\n",
    "for i in range(1,10):\n",
    "    svm_poly_reg=SVR(kernel='rbf',degree=i)\n",
    "    svm_poly_reg.fit(arr_X_train,ratio_train)\n",
    "    ratio_pred_train=svm_poly_reg.predict(arr_X_train)\n",
    "    lst_MSE_train.append(skl.metrics.mean_squared_error(ratio_train,ratio_pred_train))\n",
    "    ratio_pred_test=svm_poly_reg.predict(arr_X_test)\n",
    "    lst_MSE_test.append(skl.metrics.mean_squared_error(ratio_test,ratio_pred_test))\n",
    "\n",
    "print(lst_MSE_train)\n",
    "print(lst_MSE_test)\n",
    "i=lst_MSE_test.index(min(lst_MSE_test))\n",
    "print(i)\n",
    "svm_poly_reg=SVR(kernel='poly',degree=3)\n",
    "svm_poly_reg.fit(arr_X_train,ratio_train)\n",
    "march_1=np.array([[-59]])\n",
    "print(svm_poly_reg.predict(march_1))\n"
   ]
  },
  {
   "cell_type": "code",
   "execution_count": 45,
   "metadata": {},
   "outputs": [
    {
     "data": {
      "text/plain": [
       "<matplotlib.legend.Legend at 0x7f9c81dc5700>"
      ]
     },
     "execution_count": 45,
     "metadata": {},
     "output_type": "execute_result"
    },
    {
     "data": {
      "image/png": "[encoded data removed]",
      "text/plain": [
       "<Figure size 432x288 with 1 Axes>"
      ]
     },
     "metadata": {
      "needs_background": "light"
     },
     "output_type": "display_data"
    }
   ],
   "source": [
    "#plot the graph for ratio prediction\n",
    "ratio_pred=svm_poly_reg.predict(arr_X)\n",
    "plt.figure()\n",
    "plt.title('The Daily Ratio Of Hard Mode Number/Total Reported Number and Prediction')\n",
    "plt.xlabel('Date')\n",
    "plt.ylabel('Hard Mode Ratio')\n",
    "plt.scatter(date,ratio,s=0.5)\n",
    "plt.plot(date,ratio_pred,color='red',label='Prediction')\n",
    "plt.legend()\n"
   ]
  }
 ],
 "metadata": {
  "kernelspec": {
   "display_name": "base",
   "language": "python",
   "name": "python3"
  },
  "language_info": {
   "codemirror_mode": {
    "name": "ipython",
    "version": 3
   },
   "file_extension": ".py",
   "mimetype": "text/x-python",
   "name": "python",
   "nbconvert_exporter": "python",
   "pygments_lexer": "ipython3",
   "version": "3.9.7"
  },
  "orig_nbformat": 4,
  "vscode": {
   "interpreter": {
    "hash": "40d3a090f54c6569ab1632332b64b2c03c39dcf918b08424e98f38b5ae0af88f"
   }
  }
 },
 "nbformat": 4,
 "nbformat_minor": 2
}
