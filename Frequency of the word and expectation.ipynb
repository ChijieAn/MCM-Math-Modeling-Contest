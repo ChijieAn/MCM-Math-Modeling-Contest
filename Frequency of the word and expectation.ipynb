{
 "cells": [
  {
   "cell_type": "code",
   "execution_count": 3,
   "metadata": {},
   "outputs": [],
   "source": [
    "import matplotlib.pyplot as plt\n",
    "import sklearn as skl\n",
    "import numpy as np\n",
    "import pandas as pd\n",
    "import datetime as dt\n",
    "import sklearn.metrics as mtr\n"
   ]
  },
  {
   "cell_type": "code",
   "execution_count": 4,
   "metadata": {},
   "outputs": [
    {
     "ename": "FileNotFoundError",
     "evalue": "[Errno 2] No such file or directory: 'Problem_C_Data_Wordle_frequency.csv'",
     "output_type": "error",
     "traceback": [
      "\u001b[0;31m---------------------------------------------------------------------------\u001b[0m",
      "\u001b[0;31mFileNotFoundError\u001b[0m                         Traceback (most recent call last)",
      "\u001b[0;32m/var/folders/77/7xlbnbz56l9bn_gfnkm4yv1m0000gn/T/ipykernel_68114/3557670104.py\u001b[0m in \u001b[0;36m<module>\u001b[0;34m\u001b[0m\n\u001b[0;32m----> 1\u001b[0;31m \u001b[0mdf\u001b[0m\u001b[0;34m=\u001b[0m\u001b[0mpd\u001b[0m\u001b[0;34m.\u001b[0m\u001b[0mread_csv\u001b[0m\u001b[0;34m(\u001b[0m\u001b[0;34m'Problem_C_Data_Wordle_frequency.csv'\u001b[0m\u001b[0;34m)\u001b[0m\u001b[0;34m\u001b[0m\u001b[0;34m\u001b[0m\u001b[0m\n\u001b[0m\u001b[1;32m      2\u001b[0m \u001b[0mprint\u001b[0m\u001b[0;34m(\u001b[0m\u001b[0mdf\u001b[0m\u001b[0;34m.\u001b[0m\u001b[0mshape\u001b[0m\u001b[0;34m)\u001b[0m\u001b[0;34m\u001b[0m\u001b[0;34m\u001b[0m\u001b[0m\n",
      "\u001b[0;32m/opt/anaconda3/lib/python3.9/site-packages/pandas/util/_decorators.py\u001b[0m in \u001b[0;36mwrapper\u001b[0;34m(*args, **kwargs)\u001b[0m\n\u001b[1;32m    309\u001b[0m                     \u001b[0mstacklevel\u001b[0m\u001b[0;34m=\u001b[0m\u001b[0mstacklevel\u001b[0m\u001b[0;34m,\u001b[0m\u001b[0;34m\u001b[0m\u001b[0;34m\u001b[0m\u001b[0m\n\u001b[1;32m    310\u001b[0m                 )\n\u001b[0;32m--> 311\u001b[0;31m             \u001b[0;32mreturn\u001b[0m \u001b[0mfunc\u001b[0m\u001b[0;34m(\u001b[0m\u001b[0;34m*\u001b[0m\u001b[0margs\u001b[0m\u001b[0;34m,\u001b[0m \u001b[0;34m**\u001b[0m\u001b[0mkwargs\u001b[0m\u001b[0;34m)\u001b[0m\u001b[0;34m\u001b[0m\u001b[0;34m\u001b[0m\u001b[0m\n\u001b[0m\u001b[1;32m    312\u001b[0m \u001b[0;34m\u001b[0m\u001b[0m\n\u001b[1;32m    313\u001b[0m         \u001b[0;32mreturn\u001b[0m \u001b[0mwrapper\u001b[0m\u001b[0;34m\u001b[0m\u001b[0;34m\u001b[0m\u001b[0m\n",
      "\u001b[0;32m/opt/anaconda3/lib/python3.9/site-packages/pandas/io/parsers/readers.py\u001b[0m in \u001b[0;36mread_csv\u001b[0;34m(filepath_or_buffer, sep, delimiter, header, names, index_col, usecols, squeeze, prefix, mangle_dupe_cols, dtype, engine, converters, true_values, false_values, skipinitialspace, skiprows, skipfooter, nrows, na_values, keep_default_na, na_filter, verbose, skip_blank_lines, parse_dates, infer_datetime_format, keep_date_col, date_parser, dayfirst, cache_dates, iterator, chunksize, compression, thousands, decimal, lineterminator, quotechar, quoting, doublequote, escapechar, comment, encoding, encoding_errors, dialect, error_bad_lines, warn_bad_lines, on_bad_lines, delim_whitespace, low_memory, memory_map, float_precision, storage_options)\u001b[0m\n\u001b[1;32m    584\u001b[0m     \u001b[0mkwds\u001b[0m\u001b[0;34m.\u001b[0m\u001b[0mupdate\u001b[0m\u001b[0;34m(\u001b[0m\u001b[0mkwds_defaults\u001b[0m\u001b[0;34m)\u001b[0m\u001b[0;34m\u001b[0m\u001b[0;34m\u001b[0m\u001b[0m\n\u001b[1;32m    585\u001b[0m \u001b[0;34m\u001b[0m\u001b[0m\n\u001b[0;32m--> 586\u001b[0;31m     \u001b[0;32mreturn\u001b[0m \u001b[0m_read\u001b[0m\u001b[0;34m(\u001b[0m\u001b[0mfilepath_or_buffer\u001b[0m\u001b[0;34m,\u001b[0m \u001b[0mkwds\u001b[0m\u001b[0;34m)\u001b[0m\u001b[0;34m\u001b[0m\u001b[0;34m\u001b[0m\u001b[0m\n\u001b[0m\u001b[1;32m    587\u001b[0m \u001b[0;34m\u001b[0m\u001b[0m\n\u001b[1;32m    588\u001b[0m \u001b[0;34m\u001b[0m\u001b[0m\n",
      "\u001b[0;32m/opt/anaconda3/lib/python3.9/site-packages/pandas/io/parsers/readers.py\u001b[0m in \u001b[0;36m_read\u001b[0;34m(filepath_or_buffer, kwds)\u001b[0m\n\u001b[1;32m    480\u001b[0m \u001b[0;34m\u001b[0m\u001b[0m\n\u001b[1;32m    481\u001b[0m     \u001b[0;31m# Create the parser.\u001b[0m\u001b[0;34m\u001b[0m\u001b[0;34m\u001b[0m\u001b[0m\n\u001b[0;32m--> 482\u001b[0;31m     \u001b[0mparser\u001b[0m \u001b[0;34m=\u001b[0m \u001b[0mTextFileReader\u001b[0m\u001b[0;34m(\u001b[0m\u001b[0mfilepath_or_buffer\u001b[0m\u001b[0;34m,\u001b[0m \u001b[0;34m**\u001b[0m\u001b[0mkwds\u001b[0m\u001b[0;34m)\u001b[0m\u001b[0;34m\u001b[0m\u001b[0;34m\u001b[0m\u001b[0m\n\u001b[0m\u001b[1;32m    483\u001b[0m \u001b[0;34m\u001b[0m\u001b[0m\n\u001b[1;32m    484\u001b[0m     \u001b[0;32mif\u001b[0m \u001b[0mchunksize\u001b[0m \u001b[0;32mor\u001b[0m \u001b[0miterator\u001b[0m\u001b[0;34m:\u001b[0m\u001b[0;34m\u001b[0m\u001b[0;34m\u001b[0m\u001b[0m\n",
      "\u001b[0;32m/opt/anaconda3/lib/python3.9/site-packages/pandas/io/parsers/readers.py\u001b[0m in \u001b[0;36m__init__\u001b[0;34m(self, f, engine, **kwds)\u001b[0m\n\u001b[1;32m    809\u001b[0m             \u001b[0mself\u001b[0m\u001b[0;34m.\u001b[0m\u001b[0moptions\u001b[0m\u001b[0;34m[\u001b[0m\u001b[0;34m\"has_index_names\"\u001b[0m\u001b[0;34m]\u001b[0m \u001b[0;34m=\u001b[0m \u001b[0mkwds\u001b[0m\u001b[0;34m[\u001b[0m\u001b[0;34m\"has_index_names\"\u001b[0m\u001b[0;34m]\u001b[0m\u001b[0;34m\u001b[0m\u001b[0;34m\u001b[0m\u001b[0m\n\u001b[1;32m    810\u001b[0m \u001b[0;34m\u001b[0m\u001b[0m\n\u001b[0;32m--> 811\u001b[0;31m         \u001b[0mself\u001b[0m\u001b[0;34m.\u001b[0m\u001b[0m_engine\u001b[0m \u001b[0;34m=\u001b[0m \u001b[0mself\u001b[0m\u001b[0;34m.\u001b[0m\u001b[0m_make_engine\u001b[0m\u001b[0;34m(\u001b[0m\u001b[0mself\u001b[0m\u001b[0;34m.\u001b[0m\u001b[0mengine\u001b[0m\u001b[0;34m)\u001b[0m\u001b[0;34m\u001b[0m\u001b[0;34m\u001b[0m\u001b[0m\n\u001b[0m\u001b[1;32m    812\u001b[0m \u001b[0;34m\u001b[0m\u001b[0m\n\u001b[1;32m    813\u001b[0m     \u001b[0;32mdef\u001b[0m \u001b[0mclose\u001b[0m\u001b[0;34m(\u001b[0m\u001b[0mself\u001b[0m\u001b[0;34m)\u001b[0m\u001b[0;34m:\u001b[0m\u001b[0;34m\u001b[0m\u001b[0;34m\u001b[0m\u001b[0m\n",
      "\u001b[0;32m/opt/anaconda3/lib/python3.9/site-packages/pandas/io/parsers/readers.py\u001b[0m in \u001b[0;36m_make_engine\u001b[0;34m(self, engine)\u001b[0m\n\u001b[1;32m   1038\u001b[0m             )\n\u001b[1;32m   1039\u001b[0m         \u001b[0;31m# error: Too many arguments for \"ParserBase\"\u001b[0m\u001b[0;34m\u001b[0m\u001b[0;34m\u001b[0m\u001b[0m\n\u001b[0;32m-> 1040\u001b[0;31m         \u001b[0;32mreturn\u001b[0m \u001b[0mmapping\u001b[0m\u001b[0;34m[\u001b[0m\u001b[0mengine\u001b[0m\u001b[0;34m]\u001b[0m\u001b[0;34m(\u001b[0m\u001b[0mself\u001b[0m\u001b[0;34m.\u001b[0m\u001b[0mf\u001b[0m\u001b[0;34m,\u001b[0m \u001b[0;34m**\u001b[0m\u001b[0mself\u001b[0m\u001b[0;34m.\u001b[0m\u001b[0moptions\u001b[0m\u001b[0;34m)\u001b[0m  \u001b[0;31m# type: ignore[call-arg]\u001b[0m\u001b[0;34m\u001b[0m\u001b[0;34m\u001b[0m\u001b[0m\n\u001b[0m\u001b[1;32m   1041\u001b[0m \u001b[0;34m\u001b[0m\u001b[0m\n\u001b[1;32m   1042\u001b[0m     \u001b[0;32mdef\u001b[0m \u001b[0m_failover_to_python\u001b[0m\u001b[0;34m(\u001b[0m\u001b[0mself\u001b[0m\u001b[0;34m)\u001b[0m\u001b[0;34m:\u001b[0m\u001b[0;34m\u001b[0m\u001b[0;34m\u001b[0m\u001b[0m\n",
      "\u001b[0;32m/opt/anaconda3/lib/python3.9/site-packages/pandas/io/parsers/c_parser_wrapper.py\u001b[0m in \u001b[0;36m__init__\u001b[0;34m(self, src, **kwds)\u001b[0m\n\u001b[1;32m     49\u001b[0m \u001b[0;34m\u001b[0m\u001b[0m\n\u001b[1;32m     50\u001b[0m         \u001b[0;31m# open handles\u001b[0m\u001b[0;34m\u001b[0m\u001b[0;34m\u001b[0m\u001b[0m\n\u001b[0;32m---> 51\u001b[0;31m         \u001b[0mself\u001b[0m\u001b[0;34m.\u001b[0m\u001b[0m_open_handles\u001b[0m\u001b[0;34m(\u001b[0m\u001b[0msrc\u001b[0m\u001b[0;34m,\u001b[0m \u001b[0mkwds\u001b[0m\u001b[0;34m)\u001b[0m\u001b[0;34m\u001b[0m\u001b[0;34m\u001b[0m\u001b[0m\n\u001b[0m\u001b[1;32m     52\u001b[0m         \u001b[0;32massert\u001b[0m \u001b[0mself\u001b[0m\u001b[0;34m.\u001b[0m\u001b[0mhandles\u001b[0m \u001b[0;32mis\u001b[0m \u001b[0;32mnot\u001b[0m \u001b[0;32mNone\u001b[0m\u001b[0;34m\u001b[0m\u001b[0;34m\u001b[0m\u001b[0m\n\u001b[1;32m     53\u001b[0m \u001b[0;34m\u001b[0m\u001b[0m\n",
      "\u001b[0;32m/opt/anaconda3/lib/python3.9/site-packages/pandas/io/parsers/base_parser.py\u001b[0m in \u001b[0;36m_open_handles\u001b[0;34m(self, src, kwds)\u001b[0m\n\u001b[1;32m    220\u001b[0m         \u001b[0mLet\u001b[0m \u001b[0mthe\u001b[0m \u001b[0mreaders\u001b[0m \u001b[0mopen\u001b[0m \u001b[0mIOHandles\u001b[0m \u001b[0mafter\u001b[0m \u001b[0mthey\u001b[0m \u001b[0mare\u001b[0m \u001b[0mdone\u001b[0m \u001b[0;32mwith\u001b[0m \u001b[0mtheir\u001b[0m \u001b[0mpotential\u001b[0m \u001b[0mraises\u001b[0m\u001b[0;34m.\u001b[0m\u001b[0;34m\u001b[0m\u001b[0;34m\u001b[0m\u001b[0m\n\u001b[1;32m    221\u001b[0m         \"\"\"\n\u001b[0;32m--> 222\u001b[0;31m         self.handles = get_handle(\n\u001b[0m\u001b[1;32m    223\u001b[0m             \u001b[0msrc\u001b[0m\u001b[0;34m,\u001b[0m\u001b[0;34m\u001b[0m\u001b[0;34m\u001b[0m\u001b[0m\n\u001b[1;32m    224\u001b[0m             \u001b[0;34m\"r\"\u001b[0m\u001b[0;34m,\u001b[0m\u001b[0;34m\u001b[0m\u001b[0;34m\u001b[0m\u001b[0m\n",
      "\u001b[0;32m/opt/anaconda3/lib/python3.9/site-packages/pandas/io/common.py\u001b[0m in \u001b[0;36mget_handle\u001b[0;34m(path_or_buf, mode, encoding, compression, memory_map, is_text, errors, storage_options)\u001b[0m\n\u001b[1;32m    700\u001b[0m         \u001b[0;32mif\u001b[0m \u001b[0mioargs\u001b[0m\u001b[0;34m.\u001b[0m\u001b[0mencoding\u001b[0m \u001b[0;32mand\u001b[0m \u001b[0;34m\"b\"\u001b[0m \u001b[0;32mnot\u001b[0m \u001b[0;32min\u001b[0m \u001b[0mioargs\u001b[0m\u001b[0;34m.\u001b[0m\u001b[0mmode\u001b[0m\u001b[0;34m:\u001b[0m\u001b[0;34m\u001b[0m\u001b[0;34m\u001b[0m\u001b[0m\n\u001b[1;32m    701\u001b[0m             \u001b[0;31m# Encoding\u001b[0m\u001b[0;34m\u001b[0m\u001b[0;34m\u001b[0m\u001b[0m\n\u001b[0;32m--> 702\u001b[0;31m             handle = open(\n\u001b[0m\u001b[1;32m    703\u001b[0m                 \u001b[0mhandle\u001b[0m\u001b[0;34m,\u001b[0m\u001b[0;34m\u001b[0m\u001b[0;34m\u001b[0m\u001b[0m\n\u001b[1;32m    704\u001b[0m                 \u001b[0mioargs\u001b[0m\u001b[0;34m.\u001b[0m\u001b[0mmode\u001b[0m\u001b[0;34m,\u001b[0m\u001b[0;34m\u001b[0m\u001b[0;34m\u001b[0m\u001b[0m\n",
      "\u001b[0;31mFileNotFoundError\u001b[0m: [Errno 2] No such file or directory: 'Problem_C_Data_Wordle_frequency.csv'"
     ]
    }
   ],
   "source": [
    "df=pd.read_csv('Problem_C_Data_Wordle_frequency.csv')\n",
    "print(df.shape)"
   ]
  },
  {
   "cell_type": "markdown",
   "metadata": {},
   "source": []
  },
  {
   "cell_type": "code",
   "execution_count": 3,
   "metadata": {},
   "outputs": [
    {
     "data": {
      "text/html": [
       "<div>\n",
       "<style scoped>\n",
       "    .dataframe tbody tr th:only-of-type {\n",
       "        vertical-align: middle;\n",
       "    }\n",
       "\n",
       "    .dataframe tbody tr th {\n",
       "        vertical-align: top;\n",
       "    }\n",
       "\n",
       "    .dataframe thead th {\n",
       "        text-align: right;\n",
       "    }\n",
       "</style>\n",
       "<table border=\"1\" class=\"dataframe\">\n",
       "  <thead>\n",
       "    <tr style=\"text-align: right;\">\n",
       "      <th></th>\n",
       "      <th>Date</th>\n",
       "      <th>Contest number</th>\n",
       "      <th>Word</th>\n",
       "      <th>Number of  reported results</th>\n",
       "      <th>Number in hard mode</th>\n",
       "      <th>1 try</th>\n",
       "      <th>2 tries</th>\n",
       "      <th>3 tries</th>\n",
       "      <th>4 tries</th>\n",
       "      <th>5 tries</th>\n",
       "      <th>6 tries</th>\n",
       "      <th>7 or more tries (X)</th>\n",
       "      <th>expectation</th>\n",
       "      <th>index</th>\n",
       "      <th>Word.1</th>\n",
       "      <th>Frequent</th>\n",
       "    </tr>\n",
       "  </thead>\n",
       "  <tbody>\n",
       "    <tr>\n",
       "      <th>0</th>\n",
       "      <td>5/4/2022</td>\n",
       "      <td>319</td>\n",
       "      <td>train</td>\n",
       "      <td>107750</td>\n",
       "      <td>7243</td>\n",
       "      <td>6</td>\n",
       "      <td>26</td>\n",
       "      <td>32</td>\n",
       "      <td>22</td>\n",
       "      <td>10</td>\n",
       "      <td>3</td>\n",
       "      <td>0</td>\n",
       "      <td>3.10</td>\n",
       "      <td>242</td>\n",
       "      <td>train</td>\n",
       "      <td>4.96</td>\n",
       "    </tr>\n",
       "    <tr>\n",
       "      <th>1</th>\n",
       "      <td>4/22/2022</td>\n",
       "      <td>307</td>\n",
       "      <td>plant</td>\n",
       "      <td>119232</td>\n",
       "      <td>7731</td>\n",
       "      <td>2</td>\n",
       "      <td>19</td>\n",
       "      <td>39</td>\n",
       "      <td>28</td>\n",
       "      <td>10</td>\n",
       "      <td>3</td>\n",
       "      <td>0</td>\n",
       "      <td>3.37</td>\n",
       "      <td>254</td>\n",
       "      <td>plant</td>\n",
       "      <td>4.89</td>\n",
       "    </tr>\n",
       "    <tr>\n",
       "      <th>2</th>\n",
       "      <td>4/9/2022</td>\n",
       "      <td>294</td>\n",
       "      <td>stair</td>\n",
       "      <td>134210</td>\n",
       "      <td>8537</td>\n",
       "      <td>2</td>\n",
       "      <td>21</td>\n",
       "      <td>36</td>\n",
       "      <td>26</td>\n",
       "      <td>11</td>\n",
       "      <td>4</td>\n",
       "      <td>1</td>\n",
       "      <td>3.42</td>\n",
       "      <td>267</td>\n",
       "      <td>stair</td>\n",
       "      <td>3.26</td>\n",
       "    </tr>\n",
       "    <tr>\n",
       "      <th>3</th>\n",
       "      <td>12/19/2022</td>\n",
       "      <td>548</td>\n",
       "      <td>slate</td>\n",
       "      <td>26010</td>\n",
       "      <td>2422</td>\n",
       "      <td>6</td>\n",
       "      <td>14</td>\n",
       "      <td>33</td>\n",
       "      <td>27</td>\n",
       "      <td>13</td>\n",
       "      <td>5</td>\n",
       "      <td>1</td>\n",
       "      <td>3.43</td>\n",
       "      <td>13</td>\n",
       "      <td>slate</td>\n",
       "      <td>3.82</td>\n",
       "    </tr>\n",
       "    <tr>\n",
       "      <th>4</th>\n",
       "      <td>11/26/2022</td>\n",
       "      <td>525</td>\n",
       "      <td>clen</td>\n",
       "      <td>26381</td>\n",
       "      <td>2424</td>\n",
       "      <td>1</td>\n",
       "      <td>17</td>\n",
       "      <td>36</td>\n",
       "      <td>31</td>\n",
       "      <td>12</td>\n",
       "      <td>3</td>\n",
       "      <td>0</td>\n",
       "      <td>3.45</td>\n",
       "      <td>36</td>\n",
       "      <td>clen</td>\n",
       "      <td>1.47</td>\n",
       "    </tr>\n",
       "  </tbody>\n",
       "</table>\n",
       "</div>"
      ],
      "text/plain": [
       "         Date  Contest number   Word  Number of  reported results  \\\n",
       "0    5/4/2022             319  train                       107750   \n",
       "1   4/22/2022             307  plant                       119232   \n",
       "2    4/9/2022             294  stair                       134210   \n",
       "3  12/19/2022             548  slate                        26010   \n",
       "4  11/26/2022             525   clen                        26381   \n",
       "\n",
       "   Number in hard mode  1 try  2 tries  3 tries  4 tries  5 tries  6 tries  \\\n",
       "0                 7243      6       26       32       22       10        3   \n",
       "1                 7731      2       19       39       28       10        3   \n",
       "2                 8537      2       21       36       26       11        4   \n",
       "3                 2422      6       14       33       27       13        5   \n",
       "4                 2424      1       17       36       31       12        3   \n",
       "\n",
       "   7 or more tries (X)  expectation  index Word.1  Frequent  \n",
       "0                    0         3.10    242  train      4.96  \n",
       "1                    0         3.37    254  plant      4.89  \n",
       "2                    1         3.42    267  stair      3.26  \n",
       "3                    1         3.43     13  slate      3.82  \n",
       "4                    0         3.45     36   clen      1.47  "
      ]
     },
     "execution_count": 3,
     "metadata": {},
     "output_type": "execute_result"
    }
   ],
   "source": [
    "df.head()"
   ]
  },
  {
   "cell_type": "code",
   "execution_count": 71,
   "metadata": {},
   "outputs": [],
   "source": [
    "#create the list of expectations\n",
    "words=[]\n",
    "for i in range(359):\n",
    "    words.append(str(df.iloc[i,2]))\n",
    "\n",
    "expectation=[]\n",
    "for i in range(359):\n",
    "    expectation.append(float(df.iloc[i,12]))\n",
    "\n",
    "lst_frequency=[]\n",
    "for i in range(359):\n",
    "    lst_frequency.append(float(df.iloc[i,15]))\n",
    "\n",
    "lst_sqrt_frequency=[]\n",
    "for i in range(359):\n",
    "    lst_sqrt_frequency.append(np.sqrt(lst_frequency[i]))\n",
    "\n",
    "lst_power_frequency=[]\n",
    "for i in range(359):\n",
    "    lst_power_frequency.append(lst_frequency[i]**2)\n",
    "\n",
    "lst_log_frequency=[]\n",
    "for i in range(359):\n",
    "    lst_log_frequency.append(np.log(lst_frequency[i]+1))\n",
    "\n"
   ]
  },
  {
   "cell_type": "code",
   "execution_count": 66,
   "metadata": {},
   "outputs": [],
   "source": [
    "#generate the list of repeated letter\n",
    "def duplicate(word):\n",
    "    dic={}\n",
    "    for l in word:\n",
    "        if l not in dic.keys():\n",
    "            dic[l]=1\n",
    "        elif l in dic.keys():\n",
    "            dic[l]+=1\n",
    "    if max(list(dic.values()))>1:\n",
    "        return 1\n",
    "    return 0\n",
    "duplicate_lst=[]\n",
    "for i in range(359):\n",
    "    duplicate_lst.append(duplicate(words[i]))"
   ]
  },
  {
   "cell_type": "code",
   "execution_count": 75,
   "metadata": {},
   "outputs": [
    {
     "name": "stdout",
     "output_type": "stream",
     "text": [
      "[5, 3, 5, 4, 3, 4, 3, 3, 4, 4, 4, 3, 5, 5, 3, 5, 3, 3, 3, 2, 3, 4, 4, 5, 2, 5, 4, 4, 4, 3, 4, 4, 4, 4, 4, 5, 5, 2, 4, 3, 3, 3, 4, 4, 3, 3, 5, 3, 4, 4, 4, 4, 3, 4, 3, 4, 4, 4, 3, 4, 5, 3, 4, 4, 5, 4, 3, 2, 3, 4, 3, 4, 3, 3, 3, 2, 4, 4, 3, 3, 3, 3, 4, 3, 5, 3, 3, 3, 4, 4, 5, 4, 2, 5, 5, 3, 2, 4, 5, 3, 3, 4, 4, 3, 3, 4, 5, 4, 2, 4, 2, 3, 3, 2, 4, 4, 3, 3, 4, 4, 4, 5, 3, 4, 5, 3, 5, 3, 3, 4, 5, 4, 4, 4, 4, 2, 4, 2, 3, 5, 2, 5, 4, 5, 3, 3, 4, 2, 3, 3, 4, 3, 3, 2, 4, 2, 4, 1, 5, 3, 2, 3, 4, 5, 2, 4, 4, 3, 3, 2, 5, 4, 1, 3, 3, 2, 5, 3, 3, 3, 4, 3, 4, 3, 4, 2, 5, 3, 2, 4, 4, 4, 4, 3, 3, 3, 4, 4, 2, 5, 4, 5, 3, 3, 3, 2, 2, 3, 2, 3, 3, 4, 3, 4, 3, 3, 4, 3, 3, 1, 5, 5, 4, 3, 3, 4, 4, 5, 3, 4, 4, 3, 3, 5, 3, 3, 2, 4, 3, 3, 3, 3, 4, 4, 3, 3, 4, 3, 5, 5, 3, 2, 4, 0, 2, 4, 4, 5, 4, 3, 2, 4, 3, 2, 4, 3, 4, 3, 3, 3, 4, 4, 4, 2, 4, 3, 4, 3, 4, 2, 4, 2, 5, 2, 3, 4, 3, 5, 4, 4, 4, 3, 2, 3, 4, 3, 2, 4, 4, 3, 4, 4, 3, 2, 3, 3, 4, 2, 4, 3, 4, 5, 4, 3, 3, 4, 5, 4, 2, 4, 3, 3, 4, 5, 3, 5, 3, 3, 3, 2, 3, 4, 2, 4, 4, 4, 3, 2, 5, 5, 3, 3, 3, 2, 5, 3, 3, 2, 4, 3, 0, 4, 2, 2, 4, 4, 1, 2, 4]\n"
     ]
    }
   ],
   "source": [
    "#generate the list of frequent word in frequent positions\n",
    "dic={'a':[1,2,3,4],'b':[1],'c':[1],'d':[2,3,4,5],\n",
    "'e':[2,3,4,5],'f':[0],'g':[2],'h':[2,5],'i':[3,4],\n",
    "'j':[],'k':[4,2],'l':[4,5],'m':[1],'n':[2,3,4],'o':[3],\n",
    "'p':[1],'q':[2],'r':[3,4,5],'s':[1,4],'t':[1,4,5],\n",
    "'u':[3],'v':[],'w':[],'x':[],'y':[5],'z':[]}\n",
    "lst_letter_index=[]\n",
    "for i in range(359):\n",
    "    index=0\n",
    "    for j in range(len(words[i])):\n",
    "        if words[i][j] in dic.keys():\n",
    "            #print(words[i][j],dic[words[i][j]])\n",
    "            if j+1 in dic[words[i][j]]:\n",
    "                index+=1\n",
    "    lst_letter_index.append(index)\n",
    "\n",
    "# then we add how many times a hight frequency letter appears in the word\n",
    "dic2={'a':[2,3,4],'b':[],'c':[1],'d':[],'e':[3,4,5],'f':[],\n",
    "'g':[2],'h':[],'i':[3],'j':[],'k':[2],'l':[],'m':[],\n",
    "'n':[2],'o':[3],'p':[],'q':[2],'r':[5],'s':[1],'t':[1,5],\n",
    "'u':[],'v':[],'w':[],'x':[],'y':[5],'z':[]}\n",
    "high_frequency_letter_lst=[]\n",
    "for i in range(359):\n",
    "    index=0\n",
    "    for j in range(len(words[i])):\n",
    "        if words[i][j] in dic2.keys():\n",
    "            if dic2[words[i][j]]:\n",
    "                index+=1\n",
    "    high_frequency_letter_lst.append(index)\n",
    "print(high_frequency_letter_lst)"
   ]
  },
  {
   "cell_type": "code",
   "execution_count": null,
   "metadata": {},
   "outputs": [],
   "source": [
    "#calculate the log likelihood\n",
    "dic={'a':[0.078,0.1365,0.1170,0.0836,0.0251],\n",
    "''}"
   ]
  },
  {
   "cell_type": "code",
   "execution_count": 76,
   "metadata": {},
   "outputs": [
    {
     "name": "stdout",
     "output_type": "stream",
     "text": [
      "359 359 359 359 359 359 359\n",
      "                                 expectation  frequency  log frequency  \\\n",
      "expectation                         1.000000  -0.247261      -0.218659   \n",
      "frequency                          -0.247261   1.000000       0.964445   \n",
      "log frequency                      -0.218659   0.964445       1.000000   \n",
      "square root frequency              -0.215669   0.965706       0.999242   \n",
      "power frequency                    -0.250187   0.979577       0.895469   \n",
      "repeated letters                    0.369048  -0.090505      -0.091604   \n",
      "flfp                               -0.240626   0.035905       0.029757   \n",
      "number of high frequency letter    -0.164610  -0.050562      -0.034068   \n",
      "\n",
      "                                 square root frequency  power frequency  \\\n",
      "expectation                                  -0.215669        -0.250187   \n",
      "frequency                                     0.965706         0.979577   \n",
      "log frequency                                 0.999242         0.895469   \n",
      "square root frequency                         1.000000         0.900752   \n",
      "power frequency                               0.900752         1.000000   \n",
      "repeated letters                             -0.091131        -0.085001   \n",
      "flfp                                          0.034274         0.046527   \n",
      "number of high frequency letter              -0.034473        -0.057942   \n",
      "\n",
      "                                 repeated letters      flfp  \\\n",
      "expectation                              0.369048 -0.240626   \n",
      "frequency                               -0.090505  0.035905   \n",
      "log frequency                           -0.091604  0.029757   \n",
      "square root frequency                   -0.091131  0.034274   \n",
      "power frequency                         -0.085001  0.046527   \n",
      "repeated letters                         1.000000 -0.087816   \n",
      "flfp                                    -0.087816  1.000000   \n",
      "number of high frequency letter         -0.014858  0.223117   \n",
      "\n",
      "                                 number of high frequency letter  \n",
      "expectation                                            -0.164610  \n",
      "frequency                                              -0.050562  \n",
      "log frequency                                          -0.034068  \n",
      "square root frequency                                  -0.034473  \n",
      "power frequency                                        -0.057942  \n",
      "repeated letters                                       -0.014858  \n",
      "flfp                                                    0.223117  \n",
      "number of high frequency letter                         1.000000  \n"
     ]
    }
   ],
   "source": [
    "#generate the data frame for the correlation matrix\n",
    "data={'expectation':expectation,\n",
    "      'frequency':lst_frequency,\n",
    "      'log frequency':lst_log_frequency,\n",
    "      'square root frequency':lst_sqrt_frequency,\n",
    "      'power frequency':lst_power_frequency,\n",
    "      'repeated letters':duplicate_lst,\n",
    "      'flfp':lst_letter_index,\n",
    "      'number of high frequency letter':high_frequency_letter_lst\n",
    "}\n",
    "print(len(expectation),\n",
    "      len(lst_frequency),\n",
    "      len(lst_log_frequency),\n",
    "      len(lst_sqrt_frequency),\n",
    "      len(lst_power_frequency),\n",
    "      len(duplicate_lst),\n",
    "      len(lst_letter_index)\n",
    ")\n",
    "\n",
    "df=pd.DataFrame(data)\n",
    "\n",
    "corr_matrix=df.corr()\n",
    "print(corr_matrix)"
   ]
  },
  {
   "cell_type": "code",
   "execution_count": 5,
   "metadata": {},
   "outputs": [
    {
     "name": "stdout",
     "output_type": "stream",
     "text": [
      "-0.24726095424495312\n"
     ]
    }
   ],
   "source": [
    "#calculate the corelation index\n",
    "import statistics as st\n",
    "covariance_matrix=np.cov(expectation,lst_frequency)\n",
    "covariance=covariance_matrix[0][1]\n",
    "\n",
    "stdev_expect=st.stdev(expectation)\n",
    "stdev_frequency=st.stdev(lst_frequency)\n",
    "\n",
    "corelation_index=covariance/(stdev_expect*stdev_frequency)\n",
    "print(corelation_index)"
   ]
  },
  {
   "cell_type": "code",
   "execution_count": 35,
   "metadata": {},
   "outputs": [
    {
     "name": "stdout",
     "output_type": "stream",
     "text": [
      "-0.023647851815615687\n",
      "-0.2156692203163482\n"
     ]
    }
   ],
   "source": [
    "#calculate the corelation index of sqrt frequency\n",
    "covariance_matrix2=np.cov(expectation,lst_sqrt_frequency)\n",
    "covariance2=covariance_matrix2[0][1]\n",
    "print(covariance2)\n",
    "\n",
    "stdev_sqrt_frequency=st.stdev(lst_sqrt_frequency)\n",
    "\n",
    "corelation_index_sqrt=covariance2/(stdev_expect*stdev_sqrt_frequency)\n",
    "print(corelation_index_sqrt)"
   ]
  },
  {
   "cell_type": "code",
   "execution_count": 60,
   "metadata": {},
   "outputs": [
    {
     "name": "stdout",
     "output_type": "stream",
     "text": [
      "-0.01951075500846163\n",
      "0.22105330782885335\n",
      "0.4036552076328683\n",
      "-0.2186585671126471\n"
     ]
    }
   ],
   "source": [
    "#calculate the corelation index of power frequency\n",
    "covariance_matrix3=np.cov(expectation,lst_power_frequency)\n",
    "covariance3=covariance_matrix3[0][1]\n",
    "print(covariance3)\n",
    "\n",
    "stdev_power_frequency=st.stdev(lst_power_frequency)\n",
    "print(stdev_power_frequency)\n",
    "print(stdev_expect)\n",
    "corelation_index_power=covariance3/(stdev_expect*stdev_power_frequency)\n",
    "print(corelation_index_power)\n"
   ]
  },
  {
   "cell_type": "code",
   "execution_count": 7,
   "metadata": {},
   "outputs": [
    {
     "data": {
      "text/plain": [
       "<matplotlib.collections.PathCollection at 0x7fa398e28fd0>"
      ]
     },
     "execution_count": 7,
     "metadata": {},
     "output_type": "execute_result"
    },
    {
     "data": {
      "image/png": "[encoded data removed]",
      "text/plain": [
       "<Figure size 432x288 with 1 Axes>"
      ]
     },
     "metadata": {
      "needs_background": "light"
     },
     "output_type": "display_data"
    }
   ],
   "source": [
    "\n",
    "plt.figure()\n",
    "plt.title('The Correlation Between the Frequency of the Word and Expectation')\n",
    "plt.xlabel('Frequency')\n",
    "plt.ylabel('Expectation')\n",
    "plt.scatter(lst_frequency,expectation,s=5)\n"
   ]
  },
  {
   "cell_type": "code",
   "execution_count": 13,
   "metadata": {},
   "outputs": [
    {
     "data": {
      "text/plain": [
       "<matplotlib.collections.PathCollection at 0x7fa390bafd30>"
      ]
     },
     "execution_count": 13,
     "metadata": {},
     "output_type": "execute_result"
    },
    {
     "data": {
      "image/png": "[encoded data removed]",
      "text/plain": [
       "<Figure size 432x288 with 1 Axes>"
      ]
     },
     "metadata": {
      "needs_background": "light"
     },
     "output_type": "display_data"
    }
   ],
   "source": [
    "plt.figure()\n",
    "plt.title('The Correlation Between the Frequency of the Word and Expectation')\n",
    "plt.xlabel('Frequency')\n",
    "plt.ylabel('Expectation')\n",
    "plt.scatter(lst_sqrt_frequency,expectation,s=5)"
   ]
  },
  {
   "cell_type": "code",
   "execution_count": 85,
   "metadata": {},
   "outputs": [],
   "source": [
    "#create the list of all features\n",
    "lst_feature_vector=[]\n",
    "for i in range(359):\n",
    "    feature_vector=[]\n",
    "    feature_vector.append(lst_power_frequency[i])\n",
    "    feature_vector.append(duplicate_lst[i])\n",
    "    feature_vector.append(lst_letter_index[i])\n",
    "    feature_vector.append(high_frequency_letter_lst[i])\n",
    "    lst_feature_vector.append(feature_vector)\n"
   ]
  },
  {
   "cell_type": "code",
   "execution_count": 89,
   "metadata": {},
   "outputs": [],
   "source": [
    "import random\n",
    "#create the training set and testing set \n",
    "#randomly take 287 words as traing set and 72 words as testing set\n",
    "training_lst_expectations=[]\n",
    "training_lst_features=[]\n",
    "testing_lst_expectations=[]\n",
    "testing_lst_features=[]\n",
    "\n",
    "lst_index_train=random.sample(range(0,358), 287)\n",
    "\n",
    "lst_index_test=[i for i in range(359)]\n",
    "for i in lst_index_train:\n",
    "    lst_index_test.remove(i)\n",
    "\n",
    "for i in lst_index_train:\n",
    "    training_lst_expectations.append(expectation[i])\n",
    "    training_lst_features.append(lst_feature_vector[i])\n",
    "for i in lst_index_test:\n",
    "    testing_lst_expectations.append(expectation[i])\n",
    "    testing_lst_features.append(lst_feature_vector[i])\n",
    "\n",
    "\n",
    "\n"
   ]
  },
  {
   "cell_type": "code",
   "execution_count": 95,
   "metadata": {},
   "outputs": [
    {
     "name": "stdout",
     "output_type": "stream",
     "text": [
      "0.23228272222222224\n",
      "[4.212]\n"
     ]
    }
   ],
   "source": [
    "#using KNeighborsRegressor to predict\n",
    "from sklearn.neighbors import KNeighborsRegressor\n",
    "#fit the feature vectors into ml models\n",
    "KNR=KNeighborsRegressor()\n",
    "\n",
    "KNR.fit(training_lst_features,training_lst_expectations)\n",
    "Y_pred_KNR=KNR.predict(testing_lst_features)\n",
    "\n",
    "MSE_KNR=mtr.mean_squared_error(Y_pred_KNR,testing_lst_expectations)\n",
    "print(MSE_KNR)\n",
    "\n",
    "#the feature vector for the word eerie frequency:3.33\n",
    "print(KNR.predict([[11.0889,1,4,4]]))\n"
   ]
  },
  {
   "cell_type": "code",
   "execution_count": 96,
   "metadata": {},
   "outputs": [
    {
     "name": "stdout",
     "output_type": "stream",
     "text": [
      "0.21823274487959074\n",
      "[4.4909]\n"
     ]
    }
   ],
   "source": [
    "#using random forest regressor\n",
    "from sklearn.ensemble import GradientBoostingRegressor, RandomForestRegressor\n",
    "RFR=RandomForestRegressor()\n",
    "\n",
    "RFR.fit(training_lst_features,training_lst_expectations)\n",
    "Y_pred_RFR=RFR.predict(testing_lst_features)\n",
    "\n",
    "MSE_RFR=mtr.mean_squared_error(Y_pred_RFR,testing_lst_expectations)\n",
    "print(MSE_RFR)\n",
    "\n",
    "print(RFR.predict([[11.0889,1,4,4]]))"
   ]
  },
  {
   "cell_type": "code",
   "execution_count": 97,
   "metadata": {},
   "outputs": [
    {
     "name": "stdout",
     "output_type": "stream",
     "text": [
      "0.23668576886137593\n",
      "[4.44940359]\n"
     ]
    },
    {
     "ename": "",
     "evalue": "",
     "output_type": "error",
     "traceback": [
      "\u001b[1;31m在当前单元格或上一个单元格中执行代码时 Kernel 崩溃。请查看单元格中的代码，以确定故障的可能原因。有关详细信息，请单击 <a href='https://aka.ms/vscodeJupyterKernelCrash'>此处</a>。有关更多详细信息，请查看 Jupyter <a href='command:jupyter.viewOutput'>log</a>。"
     ]
    }
   ],
   "source": [
    "#using gradient boosting regressor\n",
    "GRB=GradientBoostingRegressor()\n",
    "\n",
    "GRB.fit(training_lst_features,training_lst_expectations)\n",
    "Y_pred_GRB=GRB.predict(testing_lst_features)\n",
    "\n",
    "MSE_GRB=mtr.mean_squared_error(Y_pred_GRB,testing_lst_expectations)\n",
    "print(MSE_GRB)\n",
    "\n",
    "print(GRB.predict([[11.0889,1,4,4]]))"
   ]
  },
  {
   "cell_type": "code",
   "execution_count": null,
   "metadata": {},
   "outputs": [],
   "source": [
    "#use deep learning to fit the data and predict\n",
    "import tensorflow as tf\n",
    "from tensorflow im"
   ]
  }
 ],
 "metadata": {
  "kernelspec": {
   "display_name": "base",
   "language": "python",
   "name": "python3"
  },
  "language_info": {
   "codemirror_mode": {
    "name": "ipython",
    "version": 3
   },
   "file_extension": ".py",
   "mimetype": "text/x-python",
   "name": "python",
   "nbconvert_exporter": "python",
   "pygments_lexer": "ipython3",
   "version": "3.9.7"
  },
  "orig_nbformat": 4,
  "vscode": {
   "interpreter": {
    "hash": "40d3a090f54c6569ab1632332b64b2c03c39dcf918b08424e98f38b5ae0af88f"
   }
  }
 },
 "nbformat": 4,
 "nbformat_minor": 2
}
