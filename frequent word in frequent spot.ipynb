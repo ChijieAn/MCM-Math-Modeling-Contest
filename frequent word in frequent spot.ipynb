{
 "cells": [
  {
   "cell_type": "code",
   "execution_count": 2,
   "metadata": {},
   "outputs": [],
   "source": [
    "import matplotlib.pyplot as plt\n",
    "import sklearn as skl\n",
    "import numpy as np\n",
    "import pandas as pd"
   ]
  },
  {
   "cell_type": "code",
   "execution_count": 3,
   "metadata": {},
   "outputs": [],
   "source": [
    "df=pd.read_csv('Problem_C_Data_Wordle1.csv')"
   ]
  },
  {
   "cell_type": "code",
   "execution_count": 4,
   "metadata": {},
   "outputs": [
    {
     "data": {
      "text/html": [
       "<div>\n",
       "<style scoped>\n",
       "    .dataframe tbody tr th:only-of-type {\n",
       "        vertical-align: middle;\n",
       "    }\n",
       "\n",
       "    .dataframe tbody tr th {\n",
       "        vertical-align: top;\n",
       "    }\n",
       "\n",
       "    .dataframe thead th {\n",
       "        text-align: right;\n",
       "    }\n",
       "</style>\n",
       "<table border=\"1\" class=\"dataframe\">\n",
       "  <thead>\n",
       "    <tr style=\"text-align: right;\">\n",
       "      <th></th>\n",
       "      <th>Unnamed: 0</th>\n",
       "      <th>Unnamed: 1</th>\n",
       "      <th>Unnamed: 2</th>\n",
       "      <th>Unnamed: 3</th>\n",
       "      <th>Unnamed: 4</th>\n",
       "      <th>Percent in</th>\n",
       "      <th>Unnamed: 6</th>\n",
       "      <th>Unnamed: 7</th>\n",
       "      <th>Unnamed: 8</th>\n",
       "      <th>Unnamed: 9</th>\n",
       "      <th>Unnamed: 10</th>\n",
       "      <th>Unnamed: 11</th>\n",
       "      <th>Unnamed: 12</th>\n",
       "      <th>Unnamed: 13</th>\n",
       "    </tr>\n",
       "  </thead>\n",
       "  <tbody>\n",
       "    <tr>\n",
       "      <th>0</th>\n",
       "      <td>Date</td>\n",
       "      <td>Contest number</td>\n",
       "      <td>Word</td>\n",
       "      <td>Number of  reported results</td>\n",
       "      <td>Number in hard mode</td>\n",
       "      <td>1 try</td>\n",
       "      <td>2 tries</td>\n",
       "      <td>3 tries</td>\n",
       "      <td>4 tries</td>\n",
       "      <td>5 tries</td>\n",
       "      <td>6 tries</td>\n",
       "      <td>7 or more tries (X)</td>\n",
       "      <td>expectation</td>\n",
       "      <td>index</td>\n",
       "    </tr>\n",
       "    <tr>\n",
       "      <th>1</th>\n",
       "      <td>12/31/2022</td>\n",
       "      <td>560</td>\n",
       "      <td>manly</td>\n",
       "      <td>20380</td>\n",
       "      <td>1899</td>\n",
       "      <td>0</td>\n",
       "      <td>2</td>\n",
       "      <td>17</td>\n",
       "      <td>37</td>\n",
       "      <td>29</td>\n",
       "      <td>12</td>\n",
       "      <td>2</td>\n",
       "      <td>4.34</td>\n",
       "      <td>1</td>\n",
       "    </tr>\n",
       "    <tr>\n",
       "      <th>2</th>\n",
       "      <td>12/30/2022</td>\n",
       "      <td>559</td>\n",
       "      <td>molar</td>\n",
       "      <td>21204</td>\n",
       "      <td>1973</td>\n",
       "      <td>0</td>\n",
       "      <td>4</td>\n",
       "      <td>21</td>\n",
       "      <td>38</td>\n",
       "      <td>26</td>\n",
       "      <td>9</td>\n",
       "      <td>1</td>\n",
       "      <td>4.14</td>\n",
       "      <td>2</td>\n",
       "    </tr>\n",
       "    <tr>\n",
       "      <th>3</th>\n",
       "      <td>12/29/2022</td>\n",
       "      <td>558</td>\n",
       "      <td>havoc</td>\n",
       "      <td>20001</td>\n",
       "      <td>1919</td>\n",
       "      <td>0</td>\n",
       "      <td>2</td>\n",
       "      <td>16</td>\n",
       "      <td>38</td>\n",
       "      <td>30</td>\n",
       "      <td>12</td>\n",
       "      <td>2</td>\n",
       "      <td>4.4</td>\n",
       "      <td>3</td>\n",
       "    </tr>\n",
       "    <tr>\n",
       "      <th>4</th>\n",
       "      <td>12/28/2022</td>\n",
       "      <td>557</td>\n",
       "      <td>impel</td>\n",
       "      <td>20160</td>\n",
       "      <td>1937</td>\n",
       "      <td>0</td>\n",
       "      <td>3</td>\n",
       "      <td>21</td>\n",
       "      <td>40</td>\n",
       "      <td>25</td>\n",
       "      <td>9</td>\n",
       "      <td>1</td>\n",
       "      <td>4.15</td>\n",
       "      <td>4</td>\n",
       "    </tr>\n",
       "  </tbody>\n",
       "</table>\n",
       "</div>"
      ],
      "text/plain": [
       "   Unnamed: 0      Unnamed: 1 Unnamed: 2                   Unnamed: 3  \\\n",
       "0        Date  Contest number       Word  Number of  reported results   \n",
       "1  12/31/2022             560      manly                        20380   \n",
       "2  12/30/2022             559      molar                        21204   \n",
       "3  12/29/2022             558      havoc                        20001   \n",
       "4  12/28/2022             557      impel                        20160   \n",
       "\n",
       "            Unnamed: 4 Percent in  Unnamed: 6 Unnamed: 7 Unnamed: 8  \\\n",
       "0  Number in hard mode       1 try    2 tries    3 tries    4 tries   \n",
       "1                 1899           0          2         17         37   \n",
       "2                 1973           0          4         21         38   \n",
       "3                 1919           0          2         16         38   \n",
       "4                 1937           0          3         21         40   \n",
       "\n",
       "  Unnamed: 9 Unnamed: 10          Unnamed: 11  Unnamed: 12 Unnamed: 13  \n",
       "0    5 tries     6 tries  7 or more tries (X)  expectation       index  \n",
       "1         29          12                    2         4.34           1  \n",
       "2         26           9                    1         4.14           2  \n",
       "3         30          12                    2          4.4           3  \n",
       "4         25           9                    1         4.15           4  "
      ]
     },
     "execution_count": 4,
     "metadata": {},
     "output_type": "execute_result"
    }
   ],
   "source": [
    "df.head()"
   ]
  },
  {
   "cell_type": "code",
   "execution_count": 27,
   "metadata": {},
   "outputs": [],
   "source": [
    "#create word list\n",
    "words=[]\n",
    "for i in range(1,360):\n",
    "    words.append(str(df.iloc[i,2]))\n",
    "\n",
    "#create the expectation list\n",
    "expectation=[]\n",
    "for i in range(1,360):\n",
    "    expectation.append(float(df.iloc[i,12]))"
   ]
  },
  {
   "cell_type": "code",
   "execution_count": 99,
   "metadata": {},
   "outputs": [],
   "source": [
    "#create a list of index\n",
    "\n",
    "#create a dictionary of the letters and their frequent positions\n",
    "dic={'a':[1,2,3,4],'b':[1],'c':[1],'d':[2,3,4,5],\n",
    "'e':[2,3,4,5],'f':[0],'g':[2],'h':[2,5],'i':[3,4],\n",
    "'j':[],'k':[4,2],'l':[4,5],'m':[1],'n':[2,3,4],'o':[3],\n",
    "'p':[1],'q':[2],'r':[3,4,5],'s':[1,4],'t':[1,4,5],\n",
    "'u':[3],'v':[],'w':[],'x':[],'y':[5],'z':[]}\n",
    "\n",
    "lst_letter_index=[]\n",
    "for i in range(359):\n",
    "    index=0\n",
    "    for j in range(len(words[i])):\n",
    "        if words[i][j] in dic.keys():\n",
    "            #print(words[i][j],dic[words[i][j]])\n",
    "            if j+1 in dic[words[i][j]]:\n",
    "                index+=1\n",
    "    lst_letter_index.append(index)\n",
    "\n",
    "lst_letter_index_power=[]\n",
    "for i in range(359):\n",
    "    lst_letter_index_power.append(2**lst_letter_index[i])\n",
    "#print(lst_letter_index_power)\n",
    "#print(lst_letter_index)\n",
    "\n",
    "lst_letter_index_sqrt=[]\n",
    "for i in range(359):\n",
    "    lst_letter_index_sqrt.append(np.exp(lst_letter_index[i]))\n",
    "\n",
    "\n"
   ]
  },
  {
   "cell_type": "code",
   "execution_count": 100,
   "metadata": {},
   "outputs": [
    {
     "name": "stdout",
     "output_type": "stream",
     "text": [
      "-0.10636155677627179\n",
      "-0.24062559284207655\n",
      "corelation_index2 is [[ 0.04879525 -0.21331369]\n",
      " [-0.21331369 20.49379684]]\n",
      "corelation_index3 is -0.19185952168338258\n"
     ]
    }
   ],
   "source": [
    "#calculate the corelation index\n",
    "import statistics as st\n",
    "covariance_matrix=np.cov(expectation,lst_letter_index)\n",
    "covariance=covariance_matrix[0][1]\n",
    "print(covariance)\n",
    "\n",
    "stdev_expectation=st.stdev(expectation)\n",
    "stdev_letter_index=st.stdev(lst_letter_index)\n",
    "\n",
    "corelation_index=covariance/(stdev_expectation*stdev_letter_index)\n",
    "print(corelation_index)\n",
    "\n",
    "covariance1=np.cov(expectation,lst_letter_index_power)\n",
    "stdev_letter_index_power=st.stdev(lst_letter_index_power)\n",
    "\n",
    "corelation_index2=covariance1/(stdev_expectation*stdev_letter_index_power)\n",
    "print('corelation_index2 is',corelation_index2)\n",
    "\n",
    "covariance_matrix=np.cov(expectation,lst_letter_index_sqrt)\n",
    "covariance2=covariance_matrix[0][1]\n",
    "\n",
    "stdev_letter_index_sqrt=st.stdev(lst_letter_index_sqrt)\n",
    "\n",
    "corelation_index3=covariance2/(stdev_expectation*stdev_letter_index_sqrt)\n",
    "print('corelation_index3 is',corelation_index3)\n"
   ]
  },
  {
   "cell_type": "code",
   "execution_count": 49,
   "metadata": {},
   "outputs": [
    {
     "data": {
      "text/plain": [
       "Text(0, 0.5, 'Expectation')"
      ]
     },
     "execution_count": 49,
     "metadata": {},
     "output_type": "execute_result"
    },
    {
     "data": {
      "image/png": "[encoded data removed]",
      "text/plain": [
       "<Figure size 432x288 with 1 Axes>"
      ]
     },
     "metadata": {
      "needs_background": "light"
     },
     "output_type": "display_data"
    }
   ],
   "source": [
    "#plot the graph of index and expectation\n",
    "plt.figure()\n",
    "plt.title('The Relationship Between Expectation and The times High frequency Letter Appear On High Frequency Positions')\n",
    "plt.scatter(lst_letter_index,expectation,s=5)\n",
    "plt.xlabel('Times High Frequency Words Appear on High Frequency Position')\n",
    "plt.ylabel('Expectation')\n"
   ]
  },
  {
   "cell_type": "code",
   "execution_count": 50,
   "metadata": {},
   "outputs": [
    {
     "name": "stdout",
     "output_type": "stream",
     "text": [
      "4.380740740740741 4.2817241379310325 4.2252136752136735 4.056382978723405 4.076363636363637\n"
     ]
    }
   ],
   "source": [
    "#calculate the averages\n",
    "lst_1=[]\n",
    "lst_2=[]\n",
    "lst_3=[]\n",
    "lst_4=[]\n",
    "lst_5=[]\n",
    "for i in range(359):\n",
    "    if lst_letter_index[i]==1:\n",
    "        lst_1.append(expectation[i])\n",
    "    elif lst_letter_index[i]==2:\n",
    "        lst_2.append(expectation[i])\n",
    "    elif lst_letter_index[i]==3:\n",
    "        lst_3.append(expectation[i])\n",
    "    elif lst_letter_index[i]==4:\n",
    "        lst_4.append(expectation[i])\n",
    "    elif lst_letter_index[i]==5:\n",
    "        lst_5.append(expectation[i])\n",
    "average1=sum(lst_1)/len(lst_1)\n",
    "average2=sum(lst_2)/len(lst_2)\n",
    "average3=sum(lst_3)/len(lst_3)\n",
    "average4=sum(lst_4)/len(lst_4)\n",
    "average5=sum(lst_5)/len(lst_5)\n",
    "print(average1,average2,average3,average4,average5)\n",
    "\n",
    "    "
   ]
  },
  {
   "cell_type": "code",
   "execution_count": 51,
   "metadata": {},
   "outputs": [
    {
     "name": "stdout",
     "output_type": "stream",
     "text": [
      "[2, 2, 1, 1, 1, 1, 0, 2, 0, 1, 2, 2, 3, 4, 2, 0, 1, 1, 3, 1, 2, 2, 1, 3, 1, 2, 1, 2, 1, 3, 2, 2, 2, 1, 2, 2, 1, 2, 2, 2, 1, 2, 2, 0, 3, 3, 3, 2, 3, 3, 1, 3, 3, 2, 0, 3, 2, 1, 1, 3, 2, 1, 1, 1, 4, 3, 2, 1, 2, 1, 3, 2, 0, 1, 2, 2, 3, 2, 2, 2, 0, 1, 2, 1, 1, 2, 2, 1, 0, 2, 3, 2, 2, 2, 0, 2, 1, 1, 2, 2, 4, 1, 2, 3, 2, 2, 3, 1, 2, 0, 2, 1, 1, 3, 2, 2, 3, 1, 3, 1, 2, 0, 2, 3, 3, 2, 2, 2, 2, 2, 1, 1, 2, 4, 1, 2, 3, 1, 2, 1, 1, 2, 2, 2, 2, 2, 4, 2, 1, 1, 0, 2, 2, 2, 0, 2, 2, 0, 1, 2, 2, 1, 2, 0, 3, 2, 1, 2, 2, 1, 2, 1, 1, 2, 0, 3, 2, 3, 0, 1, 3, 1, 3, 0, 0, 2, 1, 0, 1, 2, 3, 1, 0, 3, 2, 2, 3, 1, 0, 1, 2, 1, 3, 2, 2, 0, 3, 1, 1, 0, 1, 1, 3, 3, 2, 1, 1, 3, 2, 2, 0, 0, 1, 2, 2, 3, 1, 3, 1, 1, 1, 1, 2, 1, 2, 0, 3, 3, 1, 2, 2, 2, 3, 3, 0, 1, 2, 1, 2, 2, 1, 3, 2, 2, 2, 2, 2, 2, 1, 3, 3, 1, 1, 1, 3, 1, 3, 3, 2, 1, 2, 2, 2, 3, 4, 1, 3, 2, 0, 0, 2, 1, 3, 1, 2, 3, 1, 0, 3, 1, 4, 3, 3, 0, 3, 1, 2, 0, 4, 1, 2, 2, 2, 0, 2, 2, 3, 3, 2, 0, 2, 3, 2, 2, 3, 2, 1, 3, 2, 1, 1, 0, 0, 2, 2, 1, 2, 2, 3, 2, 3, 2, 2, 3, 1, 0, 1, 1, 1, 1, 3, 2, 2, 1, 1, 1, 2, 2, 3, 3, 1, 3, 2, 2, 1, 2, 1, 2, 1]\n"
     ]
    }
   ],
   "source": [
    "#we change the standard to a word appear for more than 30 times\n",
    "dic2={'a':[2,3,4],'b':[],'c':[1],'d':[],'e':[3,4,5],'f':[],\n",
    "'g':[2],'h':[],'i':[3],'j':[],'k':[2],'l':[],'m':[],\n",
    "'n':[2],'o':[3],'p':[],'q':[2],'r':[5],'s':[1],'t':[1,5],\n",
    "'u':[],'v':[],'w':[],'x':[],'y':[5],'z':[]}\n",
    "lst_letter_index2=[]\n",
    "for i in range(359):\n",
    "    index=0\n",
    "    for j in range(len(words[i])):\n",
    "        if words[i][j] in dic2.keys():\n",
    "            #print(words[i][j],dic[words[i][j]])\n",
    "            if j+1 in dic2[words[i][j]]:\n",
    "                index+=1\n",
    "    lst_letter_index2.append(index)\n",
    "print(lst_letter_index2)\n"
   ]
  },
  {
   "cell_type": "code",
   "execution_count": 52,
   "metadata": {},
   "outputs": [
    {
     "name": "stdout",
     "output_type": "stream",
     "text": [
      "-0.055335351146107305\n",
      "-0.1420558658926251\n"
     ]
    }
   ],
   "source": [
    "#again calculate the corelation index\n",
    "covariance_matrix=np.cov(expectation,lst_letter_index2)\n",
    "covariance=covariance_matrix[0][1]\n",
    "print(covariance)\n",
    "\n",
    "stdev_expectation=st.stdev(expectation)\n",
    "stdev_letter_index2=st.stdev(lst_letter_index2)\n",
    "\n",
    "corelation_index=covariance/(stdev_expectation*stdev_letter_index2)\n",
    "print(corelation_index)"
   ]
  }
 ],
 "metadata": {
  "kernelspec": {
   "display_name": "base",
   "language": "python",
   "name": "python3"
  },
  "language_info": {
   "codemirror_mode": {
    "name": "ipython",
    "version": 3
   },
   "file_extension": ".py",
   "mimetype": "text/x-python",
   "name": "python",
   "nbconvert_exporter": "python",
   "pygments_lexer": "ipython3",
   "version": "3.9.7"
  },
  "orig_nbformat": 4,
  "vscode": {
   "interpreter": {
    "hash": "40d3a090f54c6569ab1632332b64b2c03c39dcf918b08424e98f38b5ae0af88f"
   }
  }
 },
 "nbformat": 4,
 "nbformat_minor": 2
}
