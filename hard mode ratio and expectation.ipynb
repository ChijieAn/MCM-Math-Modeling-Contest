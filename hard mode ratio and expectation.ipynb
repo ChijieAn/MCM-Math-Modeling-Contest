{
 "cells": [
  {
   "cell_type": "code",
   "execution_count": 1,
   "metadata": {},
   "outputs": [],
   "source": [
    "import matplotlib.pyplot as plt\n",
    "import sklearn as skl\n",
    "import numpy as np\n",
    "import pandas as pd\n",
    "import datetime as dt"
   ]
  },
  {
   "cell_type": "code",
   "execution_count": 15,
   "metadata": {},
   "outputs": [],
   "source": [
    "df=pd.read_csv('Problem_C_Data_Wordle1.csv')\n"
   ]
  },
  {
   "cell_type": "code",
   "execution_count": 16,
   "metadata": {},
   "outputs": [
    {
     "data": {
      "text/html": [
       "<div>\n",
       "<style scoped>\n",
       "    .dataframe tbody tr th:only-of-type {\n",
       "        vertical-align: middle;\n",
       "    }\n",
       "\n",
       "    .dataframe tbody tr th {\n",
       "        vertical-align: top;\n",
       "    }\n",
       "\n",
       "    .dataframe thead th {\n",
       "        text-align: right;\n",
       "    }\n",
       "</style>\n",
       "<table border=\"1\" class=\"dataframe\">\n",
       "  <thead>\n",
       "    <tr style=\"text-align: right;\">\n",
       "      <th></th>\n",
       "      <th>Unnamed: 0</th>\n",
       "      <th>Unnamed: 1</th>\n",
       "      <th>Unnamed: 2</th>\n",
       "      <th>Unnamed: 3</th>\n",
       "      <th>Unnamed: 4</th>\n",
       "      <th>Percent in</th>\n",
       "      <th>Unnamed: 6</th>\n",
       "      <th>Unnamed: 7</th>\n",
       "      <th>Unnamed: 8</th>\n",
       "      <th>Unnamed: 9</th>\n",
       "      <th>Unnamed: 10</th>\n",
       "      <th>Unnamed: 11</th>\n",
       "      <th>Unnamed: 12</th>\n",
       "      <th>Unnamed: 13</th>\n",
       "    </tr>\n",
       "  </thead>\n",
       "  <tbody>\n",
       "    <tr>\n",
       "      <th>0</th>\n",
       "      <td>Date</td>\n",
       "      <td>Contest number</td>\n",
       "      <td>Word</td>\n",
       "      <td>Number of  reported results</td>\n",
       "      <td>Number in hard mode</td>\n",
       "      <td>1 try</td>\n",
       "      <td>2 tries</td>\n",
       "      <td>3 tries</td>\n",
       "      <td>4 tries</td>\n",
       "      <td>5 tries</td>\n",
       "      <td>6 tries</td>\n",
       "      <td>7 or more tries (X)</td>\n",
       "      <td>expectation</td>\n",
       "      <td>index</td>\n",
       "    </tr>\n",
       "    <tr>\n",
       "      <th>1</th>\n",
       "      <td>12/31/2022</td>\n",
       "      <td>560</td>\n",
       "      <td>manly</td>\n",
       "      <td>20380</td>\n",
       "      <td>1899</td>\n",
       "      <td>0</td>\n",
       "      <td>2</td>\n",
       "      <td>17</td>\n",
       "      <td>37</td>\n",
       "      <td>29</td>\n",
       "      <td>12</td>\n",
       "      <td>2</td>\n",
       "      <td>4.34</td>\n",
       "      <td>1</td>\n",
       "    </tr>\n",
       "    <tr>\n",
       "      <th>2</th>\n",
       "      <td>12/30/2022</td>\n",
       "      <td>559</td>\n",
       "      <td>molar</td>\n",
       "      <td>21204</td>\n",
       "      <td>1973</td>\n",
       "      <td>0</td>\n",
       "      <td>4</td>\n",
       "      <td>21</td>\n",
       "      <td>38</td>\n",
       "      <td>26</td>\n",
       "      <td>9</td>\n",
       "      <td>1</td>\n",
       "      <td>4.14</td>\n",
       "      <td>2</td>\n",
       "    </tr>\n",
       "    <tr>\n",
       "      <th>3</th>\n",
       "      <td>12/29/2022</td>\n",
       "      <td>558</td>\n",
       "      <td>havoc</td>\n",
       "      <td>20001</td>\n",
       "      <td>1919</td>\n",
       "      <td>0</td>\n",
       "      <td>2</td>\n",
       "      <td>16</td>\n",
       "      <td>38</td>\n",
       "      <td>30</td>\n",
       "      <td>12</td>\n",
       "      <td>2</td>\n",
       "      <td>4.4</td>\n",
       "      <td>3</td>\n",
       "    </tr>\n",
       "    <tr>\n",
       "      <th>4</th>\n",
       "      <td>12/28/2022</td>\n",
       "      <td>557</td>\n",
       "      <td>impel</td>\n",
       "      <td>20160</td>\n",
       "      <td>1937</td>\n",
       "      <td>0</td>\n",
       "      <td>3</td>\n",
       "      <td>21</td>\n",
       "      <td>40</td>\n",
       "      <td>25</td>\n",
       "      <td>9</td>\n",
       "      <td>1</td>\n",
       "      <td>4.15</td>\n",
       "      <td>4</td>\n",
       "    </tr>\n",
       "  </tbody>\n",
       "</table>\n",
       "</div>"
      ],
      "text/plain": [
       "   Unnamed: 0      Unnamed: 1 Unnamed: 2                   Unnamed: 3  \\\n",
       "0        Date  Contest number       Word  Number of  reported results   \n",
       "1  12/31/2022             560      manly                        20380   \n",
       "2  12/30/2022             559      molar                        21204   \n",
       "3  12/29/2022             558      havoc                        20001   \n",
       "4  12/28/2022             557      impel                        20160   \n",
       "\n",
       "            Unnamed: 4 Percent in  Unnamed: 6 Unnamed: 7 Unnamed: 8  \\\n",
       "0  Number in hard mode       1 try    2 tries    3 tries    4 tries   \n",
       "1                 1899           0          2         17         37   \n",
       "2                 1973           0          4         21         38   \n",
       "3                 1919           0          2         16         38   \n",
       "4                 1937           0          3         21         40   \n",
       "\n",
       "  Unnamed: 9 Unnamed: 10          Unnamed: 11  Unnamed: 12 Unnamed: 13  \n",
       "0    5 tries     6 tries  7 or more tries (X)  expectation       index  \n",
       "1         29          12                    2         4.34           1  \n",
       "2         26           9                    1         4.14           2  \n",
       "3         30          12                    2          4.4           3  \n",
       "4         25           9                    1         4.15           4  "
      ]
     },
     "execution_count": 16,
     "metadata": {},
     "output_type": "execute_result"
    }
   ],
   "source": [
    "df.head()"
   ]
  },
  {
   "cell_type": "code",
   "execution_count": 35,
   "metadata": {},
   "outputs": [],
   "source": [
    "#create the list of daily hardmode ratio and expectation\n",
    "for i in range(1,360):\n",
    "    df.iloc[i,3]=int(df.iloc[i,3])\n",
    "    df.iloc[i,4]=int(df.iloc[i,4])\n",
    "ratio=[]\n",
    "for i in range(1,360):\n",
    "    ratio.append(df.iloc[i,4]/df.iloc[i,3])\n",
    "#print(ratio)\n",
    "\n",
    "expectation=[]\n",
    "for i in range(1,360):\n",
    "    expectation.append(float(df.iloc[i,12]))\n",
    "#print(expectation)\n",
    "\n",
    "y=[]\n",
    "for i in range(1,360):\n",
    "    y.append(int(df.iloc[i,5]))\n",
    "date=[dt.datetime.strptime(d,'%m/%d/%Y').date() for d in df.iloc[1:,0]]"
   ]
  },
  {
   "cell_type": "code",
   "execution_count": 29,
   "metadata": {},
   "outputs": [
    {
     "name": "stdout",
     "output_type": "stream",
     "text": [
      "2.3449385784379023e-05\n",
      "0.05058653465890615\n",
      "0.4036552076328683\n",
      "0.0011483809564349422\n"
     ]
    }
   ],
   "source": [
    "#calculate the corelation index\n",
    "import statistics as st\n",
    "covariance_matrix=np.cov(ratio,expectation)\n",
    "covariance=covariance_matrix[0][1]\n",
    "print(covariance)\n",
    "stdev_ratio=st.stdev(ratio)\n",
    "stdev_expect=st.stdev(expectation)\n",
    "print(stdev_ratio)\n",
    "print(stdev_expect)\n",
    "corelation_index=covariance/(stdev_ratio*stdev_expect)\n",
    "print(corelation_index)"
   ]
  },
  {
   "cell_type": "code",
   "execution_count": 36,
   "metadata": {},
   "outputs": [
    {
     "name": "stdout",
     "output_type": "stream",
     "text": [
      "54.00111894022479\n"
     ]
    }
   ],
   "source": [
    "#plot the graph of expectation and hardmode ratio\n",
    "#calculate the mean of expectation and hardmode ratio\n",
    "mean_ratio=sum(ratio)/len(ratio)\n",
    "mean_expect=sum(expectation)/len(expectation)\n",
    "\n",
    "C=mean_expect/mean_ratio\n",
    "ratio_enlarge=[]\n",
    "for i in ratio:\n",
    "    ratio_enlarge.append(i*C)\n",
    "print(C)"
   ]
  },
  {
   "cell_type": "code",
   "execution_count": 41,
   "metadata": {},
   "outputs": [
    {
     "data": {
      "text/plain": [
       "<matplotlib.legend.Legend at 0x7f9b82261c70>"
      ]
     },
     "execution_count": 41,
     "metadata": {},
     "output_type": "execute_result"
    },
    {
     "data": {
      "image/png": "[encoded data removed]",
      "text/plain": [
       "<Figure size 432x288 with 1 Axes>"
      ]
     },
     "metadata": {
      "needs_background": "light"
     },
     "output_type": "display_data"
    }
   ],
   "source": [
    "#plot the expectation and hardmode ratio in one graph\n",
    "import matplotlib.dates as mdates\n",
    "plt.figure()\n",
    "plt.title('Daily Expectation of Try Number and Hard Mode Ratio')\n",
    "plt.gca().xaxis.set_major_formatter(mdates.DateFormatter('%m/%d/%Y'))\n",
    "plt.gca().xaxis.set_major_locator(mdates.DayLocator(interval=80))\n",
    "plt.xlabel('Date')\n",
    "plt.plot(date,expectation,color='blue',label='Expectation')\n",
    "plt.plot(date,ratio_enlarge,color='red',label='Ratio*54')\n",
    "plt.legend()"
   ]
  },
  {
   "cell_type": "code",
   "execution_count": 40,
   "metadata": {},
   "outputs": [
    {
     "name": "stdout",
     "output_type": "stream",
     "text": [
      "5.597744348973633e-07\n"
     ]
    }
   ],
   "source": [
    "# then calculate the relationship between date index and expectation\n",
    "date_index=[]\n",
    "for i in range(359):\n",
    "    date_index.append(i)\n",
    "covariance_matrix2=np.cov(date_index,expectation)\n",
    "covariance2=covariance_matrix[0][1]\n",
    "stdev_date_index=st.stdev(date_index)\n",
    "corelation_index=covariance2/(stdev_date_index*stdev_expect)\n",
    "print(corelation_index)"
   ]
  }
 ],
 "metadata": {
  "kernelspec": {
   "display_name": "base",
   "language": "python",
   "name": "python3"
  },
  "language_info": {
   "codemirror_mode": {
    "name": "ipython",
    "version": 3
   },
   "file_extension": ".py",
   "mimetype": "text/x-python",
   "name": "python",
   "nbconvert_exporter": "python",
   "pygments_lexer": "ipython3",
   "version": "3.9.7"
  },
  "orig_nbformat": 4,
  "vscode": {
   "interpreter": {
    "hash": "40d3a090f54c6569ab1632332b64b2c03c39dcf918b08424e98f38b5ae0af88f"
   }
  }
 },
 "nbformat": 4,
 "nbformat_minor": 2
}
